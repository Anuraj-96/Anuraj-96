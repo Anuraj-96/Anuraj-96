{
 "cells": [
  {
   "cell_type": "code",
   "execution_count": 1,
   "id": "3997dc3e",
   "metadata": {},
   "outputs": [],
   "source": [
    "import numpy as np\n",
    "import pandas as pd\n",
    "from sklearn.ensemble import RandomForestClassifier\n",
    "from sklearn.metrics import accuracy_score,precision_score,recall_score,f1_score\n",
    "from sklearn.model_selection import train_test_split"
   ]
  },
  {
   "cell_type": "code",
   "execution_count": 2,
   "id": "673579f4",
   "metadata": {},
   "outputs": [],
   "source": [
    "#Reading the CSV\n",
    "data=pd.read_csv('creditcard.csv')"
   ]
  },
  {
   "cell_type": "code",
   "execution_count": 3,
   "id": "6c7917c7",
   "metadata": {
    "scrolled": true
   },
   "outputs": [
    {
     "name": "stdout",
     "output_type": "stream",
     "text": [
      "0    284315\n",
      "1       492\n",
      "Name: Class, dtype: int64\n"
     ]
    }
   ],
   "source": [
    "y=data.loc[:,'Class']\n",
    "print(y.value_counts())"
   ]
  },
  {
   "cell_type": "markdown",
   "id": "7a771003",
   "metadata": {},
   "source": [
    "The distribution is unequal"
   ]
  },
  {
   "cell_type": "code",
   "execution_count": 5,
   "id": "7232111f",
   "metadata": {},
   "outputs": [],
   "source": [
    "X=data.loc[:,:]\n",
    "X = X.drop(columns = ['Class'])"
   ]
  },
  {
   "cell_type": "code",
   "execution_count": 6,
   "id": "63c50256",
   "metadata": {},
   "outputs": [],
   "source": [
    "X_train,X_test,y_train,y_test= train_test_split(X,y,test_size=0.25)"
   ]
  },
  {
   "cell_type": "code",
   "execution_count": 7,
   "id": "cd5cc74e",
   "metadata": {},
   "outputs": [
    {
     "data": {
      "text/plain": [
       "RandomForestClassifier(class_weight={0: 0.0004, 1: 0.0025})"
      ]
     },
     "execution_count": 7,
     "metadata": {},
     "output_type": "execute_result"
    }
   ],
   "source": [
    "#The data is imbalanced, hence giving more weight to class - 1 and less weight to class 0\n",
    "weights = {0:1/2500,1:1/400} #just try different weights for 0 and 1\n",
    "model=RandomForestClassifier(class_weight = weights)\n",
    "model.fit(X_train,y_train)"
   ]
  },
  {
   "cell_type": "code",
   "execution_count": null,
   "id": "0f901b37",
   "metadata": {},
   "outputs": [],
   "source": []
  },
  {
   "cell_type": "code",
   "execution_count": 8,
   "id": "b9dba95e",
   "metadata": {},
   "outputs": [],
   "source": [
    "#Prediction\n",
    "y_pred= model.predict(X_test)"
   ]
  },
  {
   "cell_type": "code",
   "execution_count": 9,
   "id": "307e920f",
   "metadata": {},
   "outputs": [
    {
     "name": "stdout",
     "output_type": "stream",
     "text": [
      "accuracy_score: 0.9995786635206876\n",
      "precision_score: 0.9411764705882353\n",
      "recall_score: 0.8\n",
      "f1_score: 0.8648648648648648\n"
     ]
    }
   ],
   "source": [
    "#accuracy report\n",
    "print('accuracy_score:',accuracy_score(y_test,y_pred))\n",
    "print('precision_score:',precision_score(y_test,y_pred))\n",
    "print('recall_score:',recall_score(y_test,y_pred))\n",
    "print('f1_score:',f1_score(y_test,y_pred))"
   ]
  },
  {
   "cell_type": "code",
   "execution_count": null,
   "id": "fca92bee",
   "metadata": {},
   "outputs": [],
   "source": []
  }
 ],
 "metadata": {
  "kernelspec": {
   "display_name": "Python 3",
   "language": "python",
   "name": "python3"
  },
  "language_info": {
   "codemirror_mode": {
    "name": "ipython",
    "version": 3
   },
   "file_extension": ".py",
   "mimetype": "text/x-python",
   "name": "python",
   "nbconvert_exporter": "python",
   "pygments_lexer": "ipython3",
   "version": "3.9.5"
  }
 },
 "nbformat": 4,
 "nbformat_minor": 5
}
